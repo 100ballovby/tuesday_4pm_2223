{
 "cells": [
  {
   "cell_type": "markdown",
   "metadata": {
    "collapsed": true
   },
   "source": [
    "# Звездочки\n",
    "\n",
    "<p style=\"font-size: 18px;\">Функции могут принимать неопределенное количество аргументов, для этого используется оператор разыменовывания, который очень похож на знак умножения, но таком не является.</p>"
   ]
  },
  {
   "cell_type": "code",
   "execution_count": 9,
   "metadata": {},
   "outputs": [
    {
     "name": "stdout",
     "output_type": "stream",
     "text": [
      "[4, 5, 2, 1, 90]\n",
      "4 5 2 1 90\n"
     ]
    }
   ],
   "source": [
    "a = [4, 5, 2, 1, 90]\n",
    "\n",
    "print(a)\n",
    "print(*a)"
   ]
  },
  {
   "cell_type": "markdown",
   "metadata": {},
   "source": [
    "<p style=\"font-size: 18px;\">Когда вы ставите звездочку перед идентификатором списка, вы \"разбираете\" его на отдельные элементы (строкой или единой последовательностью с пробелами он не становится).</p>\n",
    "\n",
    "<p style=\"font-size: 18px;\">Если поставить этот оператор перед параметром функции, она сможет принимать неограниченное количество аргументов.</p>"
   ]
  },
  {
   "cell_type": "code",
   "execution_count": 10,
   "metadata": {},
   "outputs": [
    {
     "name": "stdout",
     "output_type": "stream",
     "text": [
      "Тип данных аргумента nums: <class 'tuple'>\n",
      "2, Тип данных аргумента nums: <class 'tuple'>\n",
      "2, 3, 4, Тип данных аргумента nums: <class 'tuple'>\n",
      "2, 3, 4, 5, 6, 7, 8, 9, "
     ]
    }
   ],
   "source": [
    "def multiple_nums(*nums):\n",
    "    print(f'Тип данных аргумента nums: {type(nums)}')\n",
    "    for i in range(len(nums)):\n",
    "        print(nums[i], end=', ')\n",
    "    \n",
    "    \n",
    "multiple_nums(2)\n",
    "multiple_nums(2, 3, 4)\n",
    "multiple_nums(2, 3, 4, 5, 6, 7, 8, 9)"
   ]
  },
  {
   "cell_type": "markdown",
   "metadata": {},
   "source": [
    "<p style=\"font-size: 18px;\">Звездочка передает все аргументы, которые вы отдаете ф</p>"
   ]
  }
 ],
 "metadata": {
  "kernelspec": {
   "display_name": "Python 3 (ipykernel)",
   "language": "python",
   "name": "python3"
  },
  "language_info": {
   "codemirror_mode": {
    "name": "ipython",
    "version": 3
   },
   "file_extension": ".py",
   "mimetype": "text/x-python",
   "name": "python",
   "nbconvert_exporter": "python",
   "pygments_lexer": "ipython3",
   "version": "3.9.4"
  }
 },
 "nbformat": 4,
 "nbformat_minor": 1
}
