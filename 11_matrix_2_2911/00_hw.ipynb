{
 "cells": [
  {
   "cell_type": "markdown",
   "metadata": {
    "collapsed": true
   },
   "source": [
    "# ДЗ. Простейшие действия с матрицами \n",
    "\n",
    "<p style=\"font-size: 18px;\">\n",
    "    Теория по матрицам <a href=\"https://mathprofi.com/knigi_i_kursy/files/demo_matricy_opredeliteli.pdf\" target=\"_blank\">здесь</a>.\n",
    "</p>\n",
    "\n",
    "<p style=\"font-size: 18px;\">Необходимо выполнить следующие операции:</p>\n",
    "<ul style=\"font-size: 18px;\">\n",
    "    <li>Сложение матриц</li>\n",
    "    <li>Внесение минуса в матрицу</li>\n",
    "    <li>Умножение матрицы на число</li>\n",
    "    <li>Умножение матрицы на дробь</li>\n",
    "</ul>\n",
    "\n",
    "<p style=\"font-size: 18px;\">Для сложения матриц необходимо, чтобы они были одинакового размера!</p>\n",
    "\n",
    "<p style=\"font-size: 18px;\">Для начала создадим и наполним матрицы числами</p>"
   ]
  },
  {
   "cell_type": "code",
   "execution_count": 14,
   "metadata": {},
   "outputs": [
    {
     "name": "stdout",
     "output_type": "stream",
     "text": [
      "Количество строк: 4\n",
      "Количество столбцов: 5\n",
      "Количество строк: 4\n",
      "Количество столбцов: 5\n",
      "\n",
      "Матрица 1:\n",
      "\n",
      "9\t4\t10\t12\t11\t\n",
      "5\t11\t19\t0\t9\t\n",
      "14\t11\t19\t11\t7\t\n",
      "5\t14\t3\t18\t0\t\n",
      "\n",
      "Матрица 2:\n",
      "\n",
      "10\t20\t11\t7\t13\t\n",
      "8\t18\t12\t12\t1\t\n",
      "9\t18\t19\t7\t7\t\n",
      "8\t9\t10\t11\t12\t\n"
     ]
    }
   ],
   "source": [
    "import random as r\n",
    "\n",
    "matrix1 = []\n",
    "matrix2 = []\n",
    "n1 = int(input('Количество строк: '))\n",
    "m1 = int(input('Количество столбцов: '))\n",
    "n2 = int(input('Количество строк: '))\n",
    "m2 = int(input('Количество столбцов: '))\n",
    "print('\\nМатрица 1:\\n')\n",
    "# наполняем первую матрицу\n",
    "for i in range(n1):\n",
    "    line = []\n",
    "    for j in range(m1):\n",
    "        n = r.randint(0, 20)\n",
    "        line.append(n)\n",
    "        print(n, end=\"\\t\")\n",
    "    matrix1.append(line)\n",
    "    print()\n",
    "\n",
    "print('\\nМатрица 2:\\n')\n",
    "# наполняем вторую матрицу\n",
    "for i in range(n2):\n",
    "    line = []\n",
    "    for j in range(m2):\n",
    "        n = r.randint(0, 20)\n",
    "        line.append(n)\n",
    "        print(n, end=\"\\t\")\n",
    "    matrix2.append(line)\n",
    "    print()"
   ]
  },
  {
   "cell_type": "markdown",
   "metadata": {},
   "source": [
    "<p style=\"font-size: 18px;\">Для проверки размера матриц просто сравним переменные, которые хранят количество строк и количество столбцов для каждой матрицы. Создание новой матрицы, в которой будут сложены числа, не требуется.</p>"
   ]
  },
  {
   "cell_type": "code",
   "execution_count": 15,
   "metadata": {},
   "outputs": [
    {
     "name": "stdout",
     "output_type": "stream",
     "text": [
      "-1, -16, -1, 5, -2, \n",
      "-3, -7, 7, -12, 8, \n",
      "5, -7, 0, 4, 0, \n",
      "-3, 5, -7, 7, -12, \n"
     ]
    }
   ],
   "source": [
    "# сложим матрицы\n",
    "if (n1 == n2) and (m1 == m2):  # если матрицы одинаковые по размеру\n",
    "    for i in range(n1):\n",
    "        for j in range(m2):\n",
    "            print(matrix1[i][j] - matrix2[i][j], end=\", \")\n",
    "        print()\n",
    "else:\n",
    "    print('Матрицы разные, складывать нельзя!')\n"
   ]
  },
  {
   "cell_type": "markdown",
   "metadata": {},
   "source": [
    "## Внесение минуса в матрицу\n",
    "<p style=\"font-size: 18px;\">Чтобы внести в матрицу минус, нужно просто умножить каждый ее элемент на -1.</p>"
   ]
  },
  {
   "cell_type": "code",
   "execution_count": 16,
   "metadata": {},
   "outputs": [
    {
     "name": "stdout",
     "output_type": "stream",
     "text": [
      "-9\t-4\t-10\t-12\t-11\t\n",
      "-5\t-11\t-19\t0\t-9\t\n",
      "-14\t-11\t-19\t-11\t-7\t\n",
      "-5\t-14\t-3\t-18\t0\t\n"
     ]
    }
   ],
   "source": [
    "for i in range(n1):\n",
    "    for j in range(m1):\n",
    "        matrix1[i][j] *= -1\n",
    "        print(matrix1[i][j], end=\"\\t\")\n",
    "    print()"
   ]
  },
  {
   "cell_type": "markdown",
   "metadata": {},
   "source": [
    "## Вынесение минуса в матрицу\n",
    "<p style=\"font-size: 18px;\">Чтобы вынести из матрицы минус, нужно просто умножить каждый ее элемент на -1.</p>"
   ]
  },
  {
   "cell_type": "code",
   "execution_count": 17,
   "metadata": {},
   "outputs": [
    {
     "name": "stdout",
     "output_type": "stream",
     "text": [
      "9\t4\t10\t12\t11\t\n",
      "5\t11\t19\t0\t9\t\n",
      "14\t11\t19\t11\t7\t\n",
      "5\t14\t3\t18\t0\t\n"
     ]
    }
   ],
   "source": [
    "for i in range(n1):\n",
    "    for j in range(m1):\n",
    "        matrix1[i][j] *= -1\n",
    "        print(matrix1[i][j], end=\"\\t\")\n",
    "    print()"
   ]
  },
  {
   "cell_type": "markdown",
   "metadata": {},
   "source": [
    "## Умножение матрицы на число\n",
    "<p style=\"font-size: 18px;\">Всё просто, для того чтобы умножить матрицу на число, нужно каждый элемент\n",
    "матрицы умножить на данное число.</p>"
   ]
  },
  {
   "cell_type": "code",
   "execution_count": 18,
   "metadata": {},
   "outputs": [
    {
     "name": "stdout",
     "output_type": "stream",
     "text": [
      "Введите число: 13\n",
      "117\t52\t130\t156\t143\t\n",
      "65\t143\t247\t0\t117\t\n",
      "182\t143\t247\t143\t91\t\n",
      "65\t182\t39\t234\t0\t\n"
     ]
    }
   ],
   "source": [
    "n = int(input('Введите число: '))\n",
    "\n",
    "for i in range(n1):\n",
    "    for j in range(m1):\n",
    "        matrix1[i][j] *= n\n",
    "        print(matrix1[i][j], end=\"\\t\")\n",
    "    print()"
   ]
  },
  {
   "cell_type": "markdown",
   "metadata": {},
   "source": [
    "## Умножение матрицы на дробь\n",
    "<p style=\"font-size: 18px;\">Всё просто, для того чтобы умножить матрицу на число, нужно каждый элемент\n",
    "матрицы умножить на данную дробь.</p>"
   ]
  },
  {
   "cell_type": "code",
   "execution_count": 12,
   "metadata": {},
   "outputs": [
    {
     "name": "stdout",
     "output_type": "stream",
     "text": [
      "Введите дробь в формате числитель/знаменатель: -1/7\n",
      "0.98\t0.49\t0.49\t0.92\t0.31\t\n",
      "0.31\t1.04\t0.24\t1.16\t0.98\t\n",
      "1.04\t0.73\t0.24\t0.0\t1.22\t\n",
      "0.8\t0.49\t1.1\t0.61\t0.37\t\n"
     ]
    }
   ],
   "source": [
    "n = eval(input('Введите дробь в формате числитель/знаменатель: '))\n",
    "\n",
    "for i in range(n1):\n",
    "    for j in range(m1):\n",
    "        matrix2[i][j] *= n\n",
    "        print(round(matrix1[i][j], 2), end=\"\\t\")\n",
    "    print()"
   ]
  },
  {
   "cell_type": "code",
   "execution_count": null,
   "metadata": {},
   "outputs": [],
   "source": []
  }
 ],
 "metadata": {
  "kernelspec": {
   "display_name": "Python 3 (ipykernel)",
   "language": "python",
   "name": "python3"
  },
  "language_info": {
   "codemirror_mode": {
    "name": "ipython",
    "version": 3
   },
   "file_extension": ".py",
   "mimetype": "text/x-python",
   "name": "python",
   "nbconvert_exporter": "python",
   "pygments_lexer": "ipython3",
   "version": "3.9.4"
  }
 },
 "nbformat": 4,
 "nbformat_minor": 1
}
