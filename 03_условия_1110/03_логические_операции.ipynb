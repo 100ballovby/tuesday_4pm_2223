{
 "cells": [
  {
   "cell_type": "markdown",
   "metadata": {
    "collapsed": true
   },
   "source": [
    "# Логическая операции И в условиях\n",
    "\n",
    "<p style=\"font-size: 18px;\">Составное высказывание, связанное логической операцией <b>И</b> будет истинно тогда и только тогда, когда все простые высказывания, входящие в состав составного, будут истинными.</p>\n",
    "\n",
    "### Задача 1: Определить, принадлежность числа к промежутку [10;25]"
   ]
  },
  {
   "cell_type": "code",
   "execution_count": 1,
   "metadata": {},
   "outputs": [
    {
     "name": "stdout",
     "output_type": "stream",
     "text": [
      "Введите число: 16\n",
      "Число принадлежит.\n"
     ]
    }
   ],
   "source": [
    "num = int(input('Введите число: '))\n",
    "\n",
    "if num > 10 and num < 25:\n",
    "    print('Число принадлежит.')\n",
    "else:\n",
    "    print('Число не пренадлежит.')"
   ]
  },
  {
   "cell_type": "markdown",
   "metadata": {},
   "source": [
    "<p style=\"font-size: 18px;\">Иногда логические операции можно не использовать при решении задач на числовые промежутки. Можно написать <i>трамвайное сравнение</i> - <code>число &lt; переменная &gt; число</code>. Но такая штука работает не во всех языках программирования.</p>"
   ]
  },
  {
   "cell_type": "code",
   "execution_count": 2,
   "metadata": {},
   "outputs": [
    {
     "name": "stdout",
     "output_type": "stream",
     "text": [
      "Введите число: 18\n",
      "Число принадлежит.\n"
     ]
    }
   ],
   "source": [
    "num = int(input('Введите число: '))\n",
    "\n",
    "if 10 < num < 25:\n",
    "    print('Число принадлежит.')\n",
    "else:\n",
    "    print('Число не пренадлежит.')"
   ]
  },
  {
   "cell_type": "markdown",
   "metadata": {},
   "source": [
    "# Логическая операция ИЛИ\n",
    "\n",
    "<p style=\"font-size: 18px;\">Составное высказывание, связанное логической операцией <b>ИЛИ</b> будет истинно тогда, когда хотя бы одно простое высказывание, входящее в состав составного, будет истинным.</p>\n",
    "\n",
    "### Задача 2. Проверить, что введенное число делится или на 3, или на 7 без остатка"
   ]
  },
  {
   "cell_type": "code",
   "execution_count": 4,
   "metadata": {},
   "outputs": [
    {
     "name": "stdout",
     "output_type": "stream",
     "text": [
      "Введи число: 77\n",
      "77 делится или на 3, или на 7\n"
     ]
    }
   ],
   "source": [
    "num = int(input('Введи число: '))\n",
    "\n",
    "if num % 3 == 0 or num % 7 == 0:\n",
    "    print(num, 'делится или на 3, или на 7')\n",
    "else:\n",
    "    print(num, 'не соответствует условиям.')"
   ]
  },
  {
   "cell_type": "markdown",
   "metadata": {},
   "source": [
    "# Логическая операция НЕ\n",
    "\n",
    "<p style=\"font-size: 18px;\">Имеет наивысший приоритет исполнения, разворачивает логическое значение любой операции.</p>\n",
    "\n",
    "### Задача 3: Определить, что число не принадлежит к промежутку [10;25]"
   ]
  },
  {
   "cell_type": "code",
   "execution_count": 8,
   "metadata": {},
   "outputs": [
    {
     "name": "stdout",
     "output_type": "stream",
     "text": [
      "Введите число: 15\n",
      "Число пренадлежит.\n"
     ]
    }
   ],
   "source": [
    "num = int(input('Введите число: '))\n",
    "\n",
    "if not (num > 10 and num < 25):\n",
    "    print('Число не принадлежит.')\n",
    "else:\n",
    "    print('Число пренадлежит.')"
   ]
  },
  {
   "cell_type": "code",
   "execution_count": 9,
   "metadata": {},
   "outputs": [
    {
     "name": "stdout",
     "output_type": "stream",
     "text": [
      "True\n",
      "False\n"
     ]
    }
   ],
   "source": [
    "print(2 + 2 == 4)\n",
    "print(not 2 + 2 == 4)"
   ]
  }
 ],
 "metadata": {
  "kernelspec": {
   "display_name": "Python 3 (ipykernel)",
   "language": "python",
   "name": "python3"
  },
  "language_info": {
   "codemirror_mode": {
    "name": "ipython",
    "version": 3
   },
   "file_extension": ".py",
   "mimetype": "text/x-python",
   "name": "python",
   "nbconvert_exporter": "python",
   "pygments_lexer": "ipython3",
   "version": "3.9.4"
  }
 },
 "nbformat": 4,
 "nbformat_minor": 1
}
