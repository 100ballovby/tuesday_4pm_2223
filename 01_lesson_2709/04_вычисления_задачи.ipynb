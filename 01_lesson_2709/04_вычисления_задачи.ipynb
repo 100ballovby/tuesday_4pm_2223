{
 "cells": [
  {
   "cell_type": "markdown",
   "metadata": {},
   "source": [
    "# Приведение типов данных. Задачи\n",
    "\n",
    "## Задача 1. Сумма трех чисел\n",
    "\n",
    "<p style=\"font-size: 16px\">Напишите программу, которая считывает три числа и выводит их сумму. Каждое число записано в отдельной переменной.</p>"
   ]
  },
  {
   "cell_type": "code",
   "execution_count": 1,
   "metadata": {},
   "outputs": [
    {
     "name": "stdout",
     "output_type": "stream",
     "text": [
      "Введи число: 3.45\n",
      "Введи число: 9\n",
      "Введи число: 2\n",
      "14.45\n"
     ]
    }
   ],
   "source": [
    "a = eval(input('Введи число: '))\n",
    "b = eval(input('Введи число: '))\n",
    "c = eval(input('Введи число: '))\n",
    "\n",
    "print(a + b + c)"
   ]
  },
  {
   "cell_type": "markdown",
   "metadata": {},
   "source": [
    "<p style=\"font-size: 16px;\">Функция <code>eval()</code> в данном случае нужна для того, чтобы в переменную пользователь мог вписывать и целые числа, и десятичные дроби.</p>\n",
    "\n",
    "## Задача 2. Площадь прямоугольного треугольника\n",
    "\n",
    "<p style=\"font-size: 16px;\">Напишите программу, которая считывает длины двух катетов в прямоугольном треугольнике и выводит его площадь. Каждое число записано в отдельной переменной.</p>\n",
    "\n",
    "<p style=\"font-size: 16px;\">Формула нахождения площади: <code><b>1/2 * b * h</b></code></p>"
   ]
  },
  {
   "cell_type": "code",
   "execution_count": 3,
   "metadata": {},
   "outputs": [
    {
     "name": "stdout",
     "output_type": "stream",
     "text": [
      "Введите основание: 13\n",
      "Введите высоту: 7\n",
      "Площадь =  45.5\n"
     ]
    }
   ],
   "source": [
    "b = int(input('Введите основание: '))\n",
    "h = int(input('Введите высоту: '))\n",
    "\n",
    "print('Площадь = ', b * h * 0.5)"
   ]
  },
  {
   "cell_type": "markdown",
   "metadata": {},
   "source": [
    "## Задача 3. Дележ яблок\n",
    "\n",
    "<p style=\"font-size: 16px\"><code>n</code> школьников делят <code>k</code> яблок поровну, неделящийся остаток остается в корзинке. Сколько яблок достанется каждому школьнику? Сколько яблок останется в корзинке? Программа получает на вход числа <code>n</code> и <code>k</code> и должна вывести искомое количество яблок (два числа).</p>"
   ]
  },
  {
   "cell_type": "code",
   "execution_count": 5,
   "metadata": {},
   "outputs": [
    {
     "name": "stdout",
     "output_type": "stream",
     "text": [
      "Школьники: 15\n",
      "Яблоки: 21\n",
      "Каждый получит:  1\n",
      "В корзинке останется:  6\n"
     ]
    }
   ],
   "source": [
    "n = int(input('Школьники: '))\n",
    "k = int(input('Яблоки: '))\n",
    "\n",
    "print('Каждый получит: ', k // n)\n",
    "print('В корзинке останется: ', k % n)"
   ]
  },
  {
   "cell_type": "markdown",
   "metadata": {},
   "source": [
    "## Задача 4. Следующее и предыдущее\n",
    "\n",
    "<p style=\"font-size: 18px;\">Напишите программу, которая считывает целое число и выводит текст:</p>\n",
    "\n",
    "<p style=\"font-size: 18px;\">Число <b>17</b></p>\n",
    "<ul>\n",
    "    <li>Следующее число: 18</li>\n",
    "    <li>Предыдущее число: 16</li>\n",
    "</ul>"
   ]
  },
  {
   "cell_type": "code",
   "execution_count": null,
   "metadata": {},
   "outputs": [],
   "source": []
  },
  {
   "cell_type": "markdown",
   "metadata": {},
   "source": [
    "## Задача 5. Произведение цифр\n",
    "\n",
    "<p style=\"font-size: 18px\">Задано трёхзначное число <code><b>n</b></code>. Определить произведение его цифр.</p>"
   ]
  },
  {
   "cell_type": "code",
   "execution_count": null,
   "metadata": {},
   "outputs": [],
   "source": []
  }
 ],
 "metadata": {
  "kernelspec": {
   "display_name": "Python 3 (ipykernel)",
   "language": "python",
   "name": "python3"
  },
  "language_info": {
   "codemirror_mode": {
    "name": "ipython",
    "version": 3
   },
   "file_extension": ".py",
   "mimetype": "text/x-python",
   "name": "python",
   "nbconvert_exporter": "python",
   "pygments_lexer": "ipython3",
   "version": "3.9.4"
  }
 },
 "nbformat": 4,
 "nbformat_minor": 1
}
