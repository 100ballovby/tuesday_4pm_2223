{
 "cells": [
  {
   "cell_type": "markdown",
   "metadata": {
    "collapsed": true
   },
   "source": [
    "# Методы строк \n",
    "\n",
    "<p>Метод - это функция, которая направлена на то, чтобы изменять строку или проверять ее содержимое.</p>\n",
    "\n",
    "<p><code>.upper()</code> - метод для приведения всех символоов строки в верхний регистр (только буквы).</p>"
   ]
  },
  {
   "cell_type": "code",
   "execution_count": 5,
   "metadata": {},
   "outputs": [
    {
     "name": "stdout",
     "output_type": "stream",
     "text": [
      "ПРИВЕТ\n"
     ]
    }
   ],
   "source": [
    "a = 'привет'\n",
    "\n",
    "print(a.upper())"
   ]
  },
  {
   "cell_type": "markdown",
   "metadata": {},
   "source": [
    "<p><code>.lower()</code> - метод для приведения всех символоов строки в нижний регистр (только буквы).</p>"
   ]
  },
  {
   "cell_type": "code",
   "execution_count": 8,
   "metadata": {},
   "outputs": [
    {
     "name": "stdout",
     "output_type": "stream",
     "text": [
      "False\n",
      "True\n",
      "myemail@gmail.com\n"
     ]
    }
   ],
   "source": [
    "email_user = 'MyEmail@GMail.com'\n",
    "email_correct = 'myemail@gmail.com'\n",
    "\n",
    "print(email_user == email_correct)\n",
    "print(email_user.lower() == email_correct)\n",
    "print(email_user.lower())"
   ]
  },
  {
   "cell_type": "markdown",
   "metadata": {},
   "source": [
    "<p><code>.capitalize()</code> - метод для приведения всех символоов строки в нижний регистр (только буквы), кроме первого символа. Первый символ приводится к верхнему регистру, <b>только если он является буквой</b>.</p>"
   ]
  },
  {
   "cell_type": "code",
   "execution_count": 11,
   "metadata": {},
   "outputs": [
    {
     "name": "stdout",
     "output_type": "stream",
     "text": [
      "Вася\n"
     ]
    }
   ],
   "source": [
    "name = 'вАСЯ'\n",
    "print(name.capitalize())"
   ]
  },
  {
   "cell_type": "markdown",
   "metadata": {},
   "source": [
    "\n",
    "<p>Строчки не поддерживают замену элемента по индексу.</p>"
   ]
  },
  {
   "cell_type": "code",
   "execution_count": 12,
   "metadata": {},
   "outputs": [
    {
     "ename": "TypeError",
     "evalue": "'str' object does not support item assignment",
     "output_type": "error",
     "traceback": [
      "\u001B[0;31m---------------------------------------------------------------------------\u001B[0m",
      "\u001B[0;31mTypeError\u001B[0m                                 Traceback (most recent call last)",
      "\u001B[0;32m/var/folders/kg/wys5qw45109bn_kq6647wwzw0000gn/T/ipykernel_1174/1307198879.py\u001B[0m in \u001B[0;36m<module>\u001B[0;34m\u001B[0m\n\u001B[1;32m      1\u001B[0m \u001B[0mword\u001B[0m \u001B[0;34m=\u001B[0m \u001B[0;34m'цапля'\u001B[0m\u001B[0;34m\u001B[0m\u001B[0;34m\u001B[0m\u001B[0m\n\u001B[0;32m----> 2\u001B[0;31m \u001B[0mword\u001B[0m\u001B[0;34m[\u001B[0m\u001B[0;36m0\u001B[0m\u001B[0;34m]\u001B[0m \u001B[0;34m=\u001B[0m \u001B[0;34m'к'\u001B[0m\u001B[0;34m\u001B[0m\u001B[0;34m\u001B[0m\u001B[0m\n\u001B[0m",
      "\u001B[0;31mTypeError\u001B[0m: 'str' object does not support item assignment"
     ]
    }
   ],
   "source": [
    "word = 'цапля'\n",
    "word[0] = 'к'"
   ]
  },
  {
   "cell_type": "markdown",
   "metadata": {},
   "source": [
    "<p>НО! В строчках можно заменить символ при помощи метода.</p>\n",
    "<p><code>.replace(что_менять, на_что_менять, сколько_раз)</code> - метод замены символа или символов в строке.</p>"
   ]
  },
  {
   "cell_type": "code",
   "execution_count": 17,
   "metadata": {},
   "outputs": [
    {
     "name": "stdout",
     "output_type": "stream",
     "text": [
      "капля\n"
     ]
    }
   ],
   "source": [
    "word = 'цапля'\n",
    "\n",
    "word = word.replace('ц', 'к')\n",
    "print(word)"
   ]
  },
  {
   "cell_type": "code",
   "execution_count": 21,
   "metadata": {},
   "outputs": [
    {
     "name": "stdout",
     "output_type": "stream",
     "text": [
      "малако\n"
     ]
    }
   ],
   "source": [
    "word = 'молоко'\n",
    "word = word.replace('о', 'а', 2)\n",
    "print(word)"
   ]
  },
  {
   "cell_type": "code",
   "execution_count": null,
   "metadata": {},
   "outputs": [],
   "source": []
  }
 ],
 "metadata": {
  "kernelspec": {
   "display_name": "Python 3 (ipykernel)",
   "language": "python",
   "name": "python3"
  },
  "language_info": {
   "codemirror_mode": {
    "name": "ipython",
    "version": 3
   },
   "file_extension": ".py",
   "mimetype": "text/x-python",
   "name": "python",
   "nbconvert_exporter": "python",
   "pygments_lexer": "ipython3",
   "version": "3.9.4"
  }
 },
 "nbformat": 4,
 "nbformat_minor": 1
}
