{
 "cells": [
  {
   "cell_type": "markdown",
   "metadata": {
    "collapsed": true
   },
   "source": [
    "# Строки и условия\n",
    "\n",
    "<p style=\"font-size: 18px;\">Задача 1. Проверить, что строчка, которую вводит пользователь,\n",
    "начинается с большой буквы А.</p>"
   ]
  },
  {
   "cell_type": "code",
   "execution_count": 20,
   "metadata": {},
   "outputs": [
    {
     "name": "stdout",
     "output_type": "stream",
     "text": [
      "Молодец!\n"
     ]
    }
   ],
   "source": [
    "phrase = input('Введите строчку: ')\n",
    "if phrase[0] == 'А':\n",
    "    print('Молодец!')\n",
    "else:\n",
    "    print('Вы ввели не то.')\n"
   ]
  },
  {
   "cell_type": "markdown",
   "metadata": {},
   "source": [
    "<p style=\"font-size: 18px;\">Никто не гарантирует, что пользователь введет строчку именно с большой буквы А. Поэтому чтобы усовершенствовать программу, преобразуем строчку, вводимую пользователем, при помощи метода <code>.capitalize()</code>, который приводит первую букву в верхний регистр, а остальные приводит в нижний.</p>"
   ]
  },
  {
   "cell_type": "code",
   "execution_count": 21,
   "metadata": {},
   "outputs": [
    {
     "name": "stdout",
     "output_type": "stream",
     "text": [
      "Молодец!\n"
     ]
    }
   ],
   "source": [
    "phrase = input('Введите строчку: ').capitalize()\n",
    "if phrase[0] == 'А':\n",
    "    print('Молодец!')\n",
    "else:\n",
    "    print('Вы ввели не то.')"
   ]
  },
  {
   "cell_type": "markdown",
   "metadata": {},
   "source": [
    "<p style=\"font-size: 18px;\">Осталась одна проблема. Дело в том, что русская буква <code>A</code> - это не то же самое, что английская буква <code>A</code> и если предположить, что пользователь будет вводить английское слово, нужно еще раз усовершенствовать задачу. А именно: нужно добавить в условие операцию <code>or</code>, тогда код будет выглядеть так:</p>"
   ]
  },
  {
   "cell_type": "code",
   "execution_count": 22,
   "metadata": {},
   "outputs": [
    {
     "name": "stdout",
     "output_type": "stream",
     "text": [
      "Молодец!\n"
     ]
    }
   ],
   "source": [
    "phrase = input('Введите строчку: ').capitalize()\n",
    "if phrase[0] == 'А' or phrase[0] == 'A':\n",
    "    print('Молодец!')\n",
    "else:\n",
    "    print('Вы ввели не то.')"
   ]
  },
  {
   "cell_type": "markdown",
   "metadata": {},
   "source": [
    "## Задача 2.\n",
    "\n",
    "<p style=\"font-size: 18px;\">Напишите программу, которая просит пользователя ввести предложение и проверяет, что предложение, которое ввел пользователь заканчивается на <code>.</code> или <code>!</code>, или <code>?</code>.</p>"
   ]
  },
  {
   "cell_type": "code",
   "execution_count": 24,
   "metadata": {},
   "outputs": [
    {
     "name": "stdout",
     "output_type": "stream",
     "text": [
      "Молодец!\n"
     ]
    }
   ],
   "source": [
    "phrase = input('Введите строчку: ')\n",
    "\n",
    "if phrase[-1] == '.' or phrase[-1] == '!' or phrase[-1] == '?':\n",
    "    print('Молодец!')\n",
    "else:\n",
    "    print('Вы ввели не то.')"
   ]
  },
  {
   "cell_type": "markdown",
   "metadata": {},
   "source": [
    "<p style=\"font-size: 18px;\">Для того, чтобы проверить последний символ в строчке, нужно воспользоваться отрицательными индексами, потому что индекс <code>-1</code> - это всегда последний символ строки, вне зависимости от ее длины. Так как мы не знаем, какой длины будет строка, введенная пользователем, мы не можем угадать индекс последнего символа.</p>\n",
    "\n",
    "<p style=\"font-size: 18px;\">Однако решить задачу можно и другим способом, а именно: вспомнить про существование оператора <code>in</code>, который проверяет наличие какого-то символа в какой-то последовательности символов. Использование этого оператора может существенно сократить условие.</p>"
   ]
  },
  {
   "cell_type": "code",
   "execution_count": 25,
   "metadata": {},
   "outputs": [
    {
     "name": "stdout",
     "output_type": "stream",
     "text": [
      "Молодец!\n"
     ]
    }
   ],
   "source": [
    "phrase = input('Введите строчку: ')\n",
    "\n",
    "if phrase[-1] in '.!?':\n",
    "    print('Молодец!')\n",
    "else:\n",
    "    print('Вы ввели не то.')"
   ]
  },
  {
   "cell_type": "markdown",
   "metadata": {},
   "source": [
    "## Задача 3.\n",
    "\n",
    "<p style=\"font-size: 18px;\">Напишите программу, которая просит пользователя ввести email и проверяет, что домен почты, которую ввел пользователь заканчивается на <code>com</code> или <code>ru</code>.</p>\n",
    "\n",
    "<p style=\"font-size: 18px;\">Домен почты - это то, что стоит после символа <code>@</code>, то есть в почтовом адресе <code>greatraksin@icloud.com</code> почтовым индексом будет <code>icloud.com</code>.</p>"
   ]
  },
  {
   "cell_type": "code",
   "execution_count": 26,
   "metadata": {},
   "outputs": [
    {
     "name": "stdout",
     "output_type": "stream",
     "text": [
      "Correct!\n"
     ]
    }
   ],
   "source": [
    "email = input('Введите email: ')\n",
    "\n",
    "if email[-3:] == 'com' or email[-2:]:\n",
    "    print('Correct!')\n",
    "else:\n",
    "    print('Not valid email.')"
   ]
  },
  {
   "cell_type": "code",
   "execution_count": 27,
   "metadata": {},
   "outputs": [
    {
     "name": "stdout",
     "output_type": "stream",
     "text": [
      "Correct!\n"
     ]
    }
   ],
   "source": [
    "email = input('Введите email: ')\n",
    "\n",
    "if email[-3:] == 'com' or email[-2:] == 'ru':\n",
    "    print('Correct!')\n",
    "else:\n",
    "    print('Not valid email.')"
   ]
  },
  {
   "cell_type": "markdown",
   "metadata": {},
   "source": [
    "<p style=\"font-size: 18px;\">Для проверки последних символов строки (последовательности), мы используем срезы. Так как окончания доменов разные (состоят из трех и двух букв) я использую срезы <code>[-3:]</code> (c -3 индекса до конца - для com) и <code>[-2:]</code> (с -2 индекса до конца - для ru).</p>\n",
    "\n",
    "<p style=\"font-size: 18px;\">НО! Так как мы знаем про методы строк, можно сделать более элегантно.</p>\n",
    "\n",
    "<p  style=\"font-size: 18px;\">Существуют методы, которые позволяют проверять, с чего начинается или чем заканчивается строчка. Таких методов два:</p>\n",
    "\n",
    "<ul style=\"font-size: 18px; line-height: 1.6\">\n",
    "    <li><code>.startswith(symbol)</code> - проверяет, что введенная строка начинается с символа или последовательности символов <code>symbol</code>.</li>\n",
    "    <li><code>.endswith(symbol)</code> - проверяет, что введенная строка заканчивается символом или последовательностью символов <code>symbol</code>.</li>\n",
    "</ul>\n",
    "\n",
    "<p style=\"font-size: 18px;\">Если вы передаете методам последовательность, важно, чтобы в строке, которую вы проверяете, эта последовательность была такой же, как вы вписали в метод. То есть символоы в проверяемой строке должны быть такими же, как в методе.</p>"
   ]
  },
  {
   "cell_type": "code",
   "execution_count": 28,
   "metadata": {},
   "outputs": [
    {
     "name": "stdout",
     "output_type": "stream",
     "text": [
      "True\n",
      "True\n"
     ]
    }
   ],
   "source": [
    "phrase = 'Привет, Андрей!'\n",
    "\n",
    "print(phrase.startswith('При'))\n",
    "print(phrase.endswith('!'))"
   ]
  },
  {
   "cell_type": "markdown",
   "metadata": {},
   "source": [
    "<p style=\"font-size: 18px;\">Таким образом, решение задачи может выглядеть так:</p>"
   ]
  },
  {
   "cell_type": "code",
   "execution_count": 29,
   "metadata": {},
   "outputs": [
    {
     "name": "stdout",
     "output_type": "stream",
     "text": [
      "Correct - com\n"
     ]
    }
   ],
   "source": [
    "email = input('Введите email: ')\n",
    "\n",
    "if email.endswith('com'):\n",
    "    print('Correct - com')\n",
    "elif email.endswith('ru'):\n",
    "    print('Correct - ru')\n",
    "else:\n",
    "    print('Not valid email.')"
   ]
  },
  {
   "cell_type": "code",
   "execution_count": 30,
   "metadata": {},
   "outputs": [
    {
     "name": "stdout",
     "output_type": "stream",
     "text": [
      "Correct - ru\n"
     ]
    }
   ],
   "source": [
    "email = input('Введите email: ')\n",
    "\n",
    "if email.endswith('com'):\n",
    "    print('Correct - com')\n",
    "elif email.endswith('ru'):\n",
    "    print('Correct - ru')\n",
    "else:\n",
    "    print('Not valid email.')"
   ]
  },
  {
   "cell_type": "markdown",
   "metadata": {},
   "source": [
    "<p style=\"font-size: 18px;\">Метода, который проверит, что строка содержит что-то не существует. Но помните про наличие оператора <code>in</code>, который эту проверку способен совершить.</p>\n",
    "\n",
    "<hr>\n",
    "\n",
    "## Задача 4. \n",
    "\n",
    "<p style=\"font-size: 18px;\">Написать программу, которая получает от пользователя строчку и символ. Если в строке присутствует символ, введенный пользователем, то написать индекс этого символа, а иначе указать, что такой символ в строке отсутствует.</p>"
   ]
  },
  {
   "cell_type": "code",
   "execution_count": 31,
   "metadata": {},
   "outputs": [
    {
     "name": "stdout",
     "output_type": "stream",
     "text": [
      "р есть в Привет!\n"
     ]
    }
   ],
   "source": [
    "phrase = input('Введи фразу: ')\n",
    "symbol = input('Введи символ: ')\n",
    "\n",
    "if symbol in phrase:\n",
    "    print(symbol, 'есть в', phrase)\n",
    "else:\n",
    "    print(symbol, 'отсутствует.')"
   ]
  },
  {
   "cell_type": "markdown",
   "metadata": {},
   "source": [
    "<p style=\"font-size: 18px;\">Так как достать индекс символа по самому символу напрямую нельзя, я воспользуюсь методом <code>.index(symbol)</code>. Метод позволяет получить порядковый номер буквы в строчке.</p>"
   ]
  },
  {
   "cell_type": "code",
   "execution_count": 32,
   "metadata": {},
   "outputs": [
    {
     "name": "stdout",
     "output_type": "stream",
     "text": [
      "т есть в Привет! , его индекс = 5\n"
     ]
    }
   ],
   "source": [
    "phrase = input('Введи фразу: ')\n",
    "symbol = input('Введи символ: ')\n",
    "\n",
    "if symbol in phrase:\n",
    "    index = phrase.index(symbol)\n",
    "    print(symbol, 'есть в', phrase, ', его индекс =', index)\n",
    "else:\n",
    "    print(symbol, 'отсутствует.')"
   ]
  },
  {
   "cell_type": "code",
   "execution_count": null,
   "outputs": [],
   "source": [],
   "metadata": {
    "collapsed": false
   }
  }
 ],
 "metadata": {
  "kernelspec": {
   "display_name": "Python 3 (ipykernel)",
   "language": "python",
   "name": "python3"
  },
  "language_info": {
   "codemirror_mode": {
    "name": "ipython",
    "version": 3
   },
   "file_extension": ".py",
   "mimetype": "text/x-python",
   "name": "python",
   "nbconvert_exporter": "python",
   "pygments_lexer": "ipython3",
   "version": "3.9.4"
  }
 },
 "nbformat": 4,
 "nbformat_minor": 1
}
